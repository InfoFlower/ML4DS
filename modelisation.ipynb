{
 "cells": [
  {
   "cell_type": "markdown",
   "metadata": {},
   "source": [
    "# Partie modélisation du projet\n",
    "On a décidé de cinder la partie et la partie modélisation des données"
   ]
  },
  {
   "cell_type": "code",
   "execution_count": 1,
   "metadata": {},
   "outputs": [],
   "source": [
    "import pandas as pd\n",
    "from sklearn.neural_network import MLPRegressor, MLPClassifier\n",
    "from sklearn.tree import DecisionTreeRegressor, DecisionTreeClassifier\n",
    "from data_modelisation.data_modelisation import model_maker_tester\n",
    "from sklearn.metrics import confusion_matrix"
   ]
  },
  {
   "cell_type": "code",
   "execution_count": 2,
   "metadata": {},
   "outputs": [],
   "source": [
    "df_train=pd.read_csv('data/data_train.csv')\n",
    "df_train=df_train.astype('float')\n",
    "df_test=pd.read_csv('data/data_test.csv')\n",
    "df_test=df_test.astype('float')\n",
    "df=pd.read_csv('data/final_data.csv')\n",
    "df=df.astype('float')"
   ]
  },
  {
   "cell_type": "code",
   "execution_count": 3,
   "metadata": {},
   "outputs": [],
   "source": [
    "cat_cols=None\n",
    "to_fit=['Open time', 'Open', 'High', 'Low', 'Close', 'Volume', 'Close time',\n",
    "       'Quote asset volume', 'Number of trades', 'Taker buy base',\n",
    "       'Taker buy quote', 'Ignore', 'Close_1n', 'Close_2n',\n",
    "       'Close_3n', 'Close_4n', 'Close_5n', 'Close_6n', 'Close_7n', 'clust']\n",
    "to_pred='Close'\n",
    "\n",
    "model_maker_tester_api=model_maker_tester(cat_cols,to_fit,to_pred)\n"
   ]
  },
  {
   "cell_type": "code",
   "execution_count": 4,
   "metadata": {},
   "outputs": [],
   "source": [
    "####################################  MLFLOW CONF  ####################################\n",
    "from mlflow.tracking import MlflowClient\n",
    "client = MlflowClient(tracking_uri=\"file:mlruns\")\n",
    "experiment_name = \"BITCOIN\"\n",
    "experiment = client.get_experiment_by_name(experiment_name)\n",
    "\n",
    "########################################################################################"
   ]
  },
  {
   "cell_type": "code",
   "execution_count": 5,
   "metadata": {},
   "outputs": [],
   "source": [
    "parameter_space = {\n",
    "    'hidden_layer_sizes': [(10,30,10),(1000,100,10),(20,30,40,50,70,100)],\n",
    "    'activation': ['tanh', 'relu'],\n",
    "    'solver': ['sgd', 'adam'],\n",
    "    'alpha': [0.0001, 0.05],\n",
    "    'learning_rate': ['constant','adaptive'],\n",
    "}"
   ]
  },
  {
   "cell_type": "code",
   "execution_count": 6,
   "metadata": {},
   "outputs": [],
   "source": [
    "import mlflow"
   ]
  },
  {
   "cell_type": "code",
   "execution_count": 7,
   "metadata": {},
   "outputs": [
    {
     "name": "stderr",
     "output_type": "stream",
     "text": [
      "c:\\Users\\lenovo\\Desktop\\Cours\\35_ML4DS\\.env_mlds\\Lib\\site-packages\\sklearn\\model_selection\\_validation.py:528: FitFailedWarning: \n",
      "57 fits failed out of a total of 240.\n",
      "The score on these train-test partitions for these parameters will be set to nan.\n",
      "If these failures are not expected, you can try to debug them by setting error_score='raise'.\n",
      "\n",
      "Below are more details about the failures:\n",
      "--------------------------------------------------------------------------------\n",
      "57 fits failed with the following error:\n",
      "Traceback (most recent call last):\n",
      "  File \"c:\\Users\\lenovo\\Desktop\\Cours\\35_ML4DS\\.env_mlds\\Lib\\site-packages\\sklearn\\model_selection\\_validation.py\", line 866, in _fit_and_score\n",
      "    estimator.fit(X_train, y_train, **fit_params)\n",
      "  File \"c:\\Users\\lenovo\\Desktop\\Cours\\35_ML4DS\\.env_mlds\\Lib\\site-packages\\sklearn\\base.py\", line 1389, in wrapper\n",
      "    return fit_method(estimator, *args, **kwargs)\n",
      "           ^^^^^^^^^^^^^^^^^^^^^^^^^^^^^^^^^^^^^^\n",
      "  File \"c:\\Users\\lenovo\\Desktop\\Cours\\35_ML4DS\\.env_mlds\\Lib\\site-packages\\sklearn\\neural_network\\_multilayer_perceptron.py\", line 754, in fit\n",
      "    return self._fit(X, y, incremental=False)\n",
      "           ^^^^^^^^^^^^^^^^^^^^^^^^^^^^^^^^^^\n",
      "  File \"c:\\Users\\lenovo\\Desktop\\Cours\\35_ML4DS\\.env_mlds\\Lib\\site-packages\\sklearn\\neural_network\\_multilayer_perceptron.py\", line 496, in _fit\n",
      "    raise ValueError(\n",
      "ValueError: Solver produced non-finite parameter weights. The input data may contain large values and need to be preprocessed.\n",
      "\n",
      "  warnings.warn(some_fits_failed_message, FitFailedWarning)\n",
      "c:\\Users\\lenovo\\Desktop\\Cours\\35_ML4DS\\.env_mlds\\Lib\\site-packages\\sklearn\\model_selection\\_search.py:1108: UserWarning: One or more of the test scores are non-finite: [nan nan nan nan nan nan nan nan nan nan nan nan nan nan nan nan nan nan\n",
      " nan nan nan nan nan nan nan nan nan nan nan nan nan nan nan nan nan nan\n",
      " nan nan nan nan nan nan nan nan nan nan nan nan]\n",
      "  warnings.warn(\n"
     ]
    },
    {
     "name": "stdout",
     "output_type": "stream",
     "text": [
      "🏃 View run luminous-croc-354 at: http://localhost:8080/#/experiments/785894109391607483/runs/6261494543ee4ea7bef83574209b2d7c\n",
      "🧪 View experiment at: http://localhost:8080/#/experiments/785894109391607483\n",
      "🏃 View run 0.1_MLP Regressor_2025_01_15 at: http://localhost:8080/#/experiments/785894109391607483/runs/ed965660612a4de0827fbf63a8f284d8\n",
      "🧪 View experiment at: http://localhost:8080/#/experiments/785894109391607483\n"
     ]
    }
   ],
   "source": [
    "mlflow.set_tracking_uri('http://localhost:8080')\n",
    "model =MLPRegressor()\n",
    "model_name = 'MLP Regressor'\n",
    "data=df_train\n",
    "version=0.1\n",
    "param_grid=parameter_space\n",
    "sav=model_maker_tester_api(model,model_name,data,version,param_grid,experience_name='BITCOIN',flg_first=True)"
   ]
  },
  {
   "cell_type": "code",
   "execution_count": 8,
   "metadata": {},
   "outputs": [
    {
     "name": "stderr",
     "output_type": "stream",
     "text": [
      "c:\\Users\\lenovo\\Desktop\\Cours\\35_ML4DS\\.env_mlds\\Lib\\site-packages\\tqdm\\auto.py:21: TqdmWarning: IProgress not found. Please update jupyter and ipywidgets. See https://ipywidgets.readthedocs.io/en/stable/user_install.html\n",
      "  from .autonotebook import tqdm as notebook_tqdm\n",
      "Downloading artifacts: 100%|██████████| 5/5 [00:02<00:00,  2.36it/s]\n"
     ]
    }
   ],
   "source": [
    "latest_run = client.search_runs(experiment_ids=[experiment.experiment_id], order_by=[\"start_time DESC\"], max_results=1)[0]\n",
    "model_uri = f\"runs:/{latest_run.info.run_id}/MLP Regressor/\"\n",
    "model_to_predict=mlflow.sklearn.load_model(model_uri)"
   ]
  },
  {
   "cell_type": "code",
   "execution_count": 9,
   "metadata": {},
   "outputs": [
    {
     "name": "stdout",
     "output_type": "stream",
     "text": [
      "🏃 View run intrigued-grub-4 at: http://localhost:8080/#/experiments/785894109391607483/runs/60c59b56f0bc4b6ab40731dcb278fb92\n",
      "🧪 View experiment at: http://localhost:8080/#/experiments/785894109391607483\n",
      "🏃 View run 0.1_MLP Regressor_2025_01_15 at: http://localhost:8080/#/experiments/785894109391607483/runs/7eee8c1cf5d24c97a8ac6487393cdf15\n",
      "🧪 View experiment at: http://localhost:8080/#/experiments/785894109391607483\n"
     ]
    }
   ],
   "source": [
    "model_sans_engineering=model_maker_tester_api(model_to_predict,model_name,df_test,version,param_grid,experience_name='BITCOIN',flg_first=False)"
   ]
  },
  {
   "cell_type": "code",
   "execution_count": 10,
   "metadata": {},
   "outputs": [
    {
     "data": {
      "text/plain": [
       "(MLPRegressor(activation='tanh', hidden_layer_sizes=(10, 30, 10), solver='sgd'),\n",
       " {'R2': -0.01571466103638519,\n",
       "  'RMSE': 14272.688224780899,\n",
       "  'MAE': 11572.392283461539,\n",
       "  'Precision': -0.01571466103638519})"
      ]
     },
     "execution_count": 10,
     "metadata": {},
     "output_type": "execute_result"
    }
   ],
   "source": [
    "model_sans_engineering"
   ]
  },
  {
   "cell_type": "markdown",
   "metadata": {},
   "source": [
    "résultats : \n",
    "- 'R2': -0.006166923929880941,\n",
    "- 'RMSE': 14205.448066793317,\n",
    "- 'MAE': 11331.938320027977,\n",
    "- 'Precision': -0.006166923929880941\n",
    "\n",
    "**Très peu convaincants**"
   ]
  },
  {
   "cell_type": "markdown",
   "metadata": {},
   "source": [
    "# Un peu de data featuring/engineering\n",
    "On va ajouter quelques variables pour essayer de remonter les scores catastrophiques que l'on a"
   ]
  },
  {
   "cell_type": "code",
   "execution_count": 11,
   "metadata": {},
   "outputs": [],
   "source": [
    "from sklearn.preprocessing import MinMaxScaler\n",
    "\n",
    "#Fait par l'IA, rapide sans soucis niveau bug\n",
    "# Convert 'Open time' to datetime\n",
    "\n",
    "def preprocess_data(df):\n",
    "       # Convert 'Open time' to datetime\n",
    "       Date_open = pd.to_datetime(df['Open time'], format='%Y%m%d')\n",
    "\n",
    "       # Add new columns\n",
    "       df['Day of Week'] = Date_open.dt.day_name()\n",
    "       df['Day of Month'] = Date_open.dt.day\n",
    "       df['Month'] = Date_open.dt.month_name()\n",
    "\n",
    "       # Scale the features\n",
    "       scaler = MinMaxScaler()\n",
    "       scaled_features = scaler.fit_transform(df[['Open', 'High', 'Low', 'Volume', 'Quote asset volume', 'Close_n1', 'Close_1n', 'Number of trades', 'Taker buy base', 'Taker buy quote', 'Close']])\n",
    "       scaled_df = pd.DataFrame(scaled_features, columns=['Open', 'High', 'Low', 'Volume', 'Quote asset volume', 'Close_n1', 'Close_1n', 'Number of trades', 'Taker buy base', 'Taker buy quote', 'Close'])\n",
    "       df.update(scaled_df)\n",
    "       return df, scaler\n",
    "\n",
    "# Example usage\n",
    "df_train,  scaler_train = preprocess_data(df_train)\n",
    "df_test, scaler_test = preprocess_data(df_test)\n",
    "df, scaler = preprocess_data(df)\n"
   ]
  },
  {
   "cell_type": "code",
   "execution_count": 12,
   "metadata": {},
   "outputs": [
    {
     "name": "stderr",
     "output_type": "stream",
     "text": [
      "c:\\Users\\lenovo\\Desktop\\Cours\\35_ML4DS\\.env_mlds\\Lib\\site-packages\\sklearn\\model_selection\\_search.py:1108: UserWarning: One or more of the test scores are non-finite: [nan nan nan nan nan nan nan nan nan nan nan nan nan nan nan nan nan nan\n",
      " nan nan nan nan nan nan nan nan nan nan nan nan nan nan nan nan nan nan\n",
      " nan nan nan nan nan nan nan nan nan nan nan nan]\n",
      "  warnings.warn(\n"
     ]
    },
    {
     "name": "stdout",
     "output_type": "stream",
     "text": [
      "🏃 View run blushing-bee-35 at: http://localhost:8080/#/experiments/785894109391607483/runs/de0d34414473403aa64685cf2f81a5c1\n",
      "🧪 View experiment at: http://localhost:8080/#/experiments/785894109391607483\n",
      "🏃 View run 2.2_MLP Regressor_with_engineering_2025_01_15 at: http://localhost:8080/#/experiments/785894109391607483/runs/bbd69b8bfd2747e58e372160dde5664e\n",
      "🧪 View experiment at: http://localhost:8080/#/experiments/785894109391607483\n"
     ]
    }
   ],
   "source": [
    "cat_cols=['clust', 'Day of Week', 'Day of Month',\n",
    "       'Month']\n",
    "to_fit=['Quote asset volume', 'Number of trades', 'Taker buy base',\n",
    "       'Taker buy quote','Close','Close_1n', 'clust_1.0', 'clust_2.0', 'clust_3.0',\n",
    "       'Day of Week_Friday', 'Day of Week_Monday', 'Day of Week_Saturday',\n",
    "       'Day of Week_Sunday', 'Day of Week_Thursday', 'Day of Week_Tuesday',\n",
    "       'Day of Week_Wednesday', 'Day of Month_1', 'Day of Month_2',\n",
    "       'Day of Month_3', 'Day of Month_4', 'Day of Month_5', 'Day of Month_6',\n",
    "       'Day of Month_7', 'Day of Month_8', 'Day of Month_9', 'Day of Month_10',\n",
    "       'Day of Month_11', 'Day of Month_12', 'Day of Month_13',\n",
    "       'Day of Month_14', 'Day of Month_15', 'Day of Month_16',\n",
    "       'Day of Month_17', 'Day of Month_18', 'Day of Month_19',\n",
    "       'Day of Month_20', 'Day of Month_21', 'Day of Month_22',\n",
    "       'Day of Month_23', 'Day of Month_24', 'Day of Month_25',\n",
    "       'Day of Month_26', 'Day of Month_27', 'Day of Month_28',\n",
    "       'Day of Month_29', 'Day of Month_30', 'Day of Month_31', 'Month_April',\n",
    "       'Month_August', 'Month_December', 'Month_February', 'Month_January',\n",
    "       'Month_July', 'Month_June', 'Month_March', 'Month_May',\n",
    "       'Month_November', 'Month_October', 'Month_September']\n",
    "to_pred='Close_n1'\n",
    "model_maker_tester_api=model_maker_tester(cat_cols,to_fit,to_pred)\n",
    "\n",
    "model =MLPRegressor()\n",
    "model_name = 'MLP Regressor_with_engineering'\n",
    "data=df_train\n",
    "version=2.2\n",
    "param_grid=parameter_space\n",
    "sav=model_maker_tester_api(model,model_name,data,version,param_grid,experience_name='BITCOIN',flg_first=True)"
   ]
  },
  {
   "cell_type": "code",
   "execution_count": 13,
   "metadata": {},
   "outputs": [
    {
     "name": "stderr",
     "output_type": "stream",
     "text": [
      "Downloading artifacts: 100%|██████████| 5/5 [00:02<00:00,  2.31it/s]\n"
     ]
    },
    {
     "name": "stdout",
     "output_type": "stream",
     "text": [
      "🏃 View run loud-ape-147 at: http://localhost:8080/#/experiments/785894109391607483/runs/adab1f5a79ba4010bb794ad60d15c2de\n",
      "🧪 View experiment at: http://localhost:8080/#/experiments/785894109391607483\n",
      "🏃 View run 2.2_MLP Regressor_with_engineering_2025_01_15 at: http://localhost:8080/#/experiments/785894109391607483/runs/07d5074301744b76b1c69a3a369172be\n",
      "🧪 View experiment at: http://localhost:8080/#/experiments/785894109391607483\n"
     ]
    },
    {
     "data": {
      "text/plain": [
       "(MLPRegressor(activation='tanh', hidden_layer_sizes=(10, 30, 10), solver='sgd'),\n",
       " {'R2': 0.2453456800275703,\n",
       "  'RMSE': 0.19163249659855738,\n",
       "  'MAE': 0.1591927921622835,\n",
       "  'Precision': 0.2453456800275703})"
      ]
     },
     "execution_count": 13,
     "metadata": {},
     "output_type": "execute_result"
    }
   ],
   "source": [
    "latest_run = client.search_runs(experiment_ids=[experiment.experiment_id], order_by=[\"start_time DESC\"], max_results=1)[0]\n",
    "model_uri = f\"runs:/{latest_run.info.run_id}/MLP Regressor_with_engineering/\"\n",
    "model_to_predict=mlflow.sklearn.load_model(model_uri)\n",
    "know=model_maker_tester_api(model_to_predict,model_name,df_test,version,param_grid,experience_name='BITCOIN',flg_first=False)\n",
    "know"
   ]
  },
  {
   "cell_type": "markdown",
   "metadata": {},
   "source": [
    "On créé le jeu de test global pour visualisation des résultats"
   ]
  },
  {
   "cell_type": "code",
   "execution_count": 14,
   "metadata": {},
   "outputs": [],
   "source": [
    "df_dummies=pd.get_dummies(df,columns=cat_cols,drop_first=False)"
   ]
  },
  {
   "cell_type": "code",
   "execution_count": 15,
   "metadata": {},
   "outputs": [],
   "source": [
    "df['MLP_Regressor_pred']=know[0].predict(df_dummies[to_fit])"
   ]
  },
  {
   "cell_type": "markdown",
   "metadata": {},
   "source": [
    "Résultats :\n",
    "- 'R2': 0.2453456800275703,\n",
    "- 'RMSE': 0.19163249659855738,\n",
    "- 'MAE': 0.1591927921622835,\n",
    "- 'Precision': 0.245345680027570\n",
    "\n",
    "**Déjà plus convaincant**"
   ]
  },
  {
   "cell_type": "markdown",
   "metadata": {},
   "source": [
    "# On change le model et la variable à prédire\n",
    "On va faire un delta, le but sera alors de prédire si le prix va monter ou non"
   ]
  },
  {
   "cell_type": "code",
   "execution_count": 16,
   "metadata": {},
   "outputs": [],
   "source": [
    "#Fais une fonction qui prend en argument un dataframe et une variable sour forme str, \n",
    "# la fonction retournera un array de la même longueur que le dataframe avec comme valeur 0 ou 1 dépendament \n",
    "# que la variable indiquée en argument ai augmenté depuis l'enregistrement d'avant ou non\n",
    "import numpy as np\n",
    "\n",
    "def variable_increase(df, variable):\n",
    "    result = np.zeros(len(df))\n",
    "    result[1:] = np.where(df[variable][1:].values > df[variable][:-1].values, 1, 0)\n",
    "    return result\n",
    "\n",
    "# Exemple d'utilisation\n",
    "df['Close increase'] = variable_increase(df, 'Close_n1')\n",
    "df_test['Close increase'] = variable_increase(df_test, 'Close_n1')\n",
    "df_train['Close increase'] = variable_increase(df_train, 'Close_n1')"
   ]
  },
  {
   "cell_type": "code",
   "execution_count": 17,
   "metadata": {},
   "outputs": [
    {
     "name": "stderr",
     "output_type": "stream",
     "text": [
      "c:\\Users\\lenovo\\Desktop\\Cours\\35_ML4DS\\.env_mlds\\Lib\\site-packages\\sklearn\\neural_network\\_multilayer_perceptron.py:691: ConvergenceWarning: Stochastic Optimizer: Maximum iterations (200) reached and the optimization hasn't converged yet.\n",
      "  warnings.warn(\n"
     ]
    },
    {
     "name": "stdout",
     "output_type": "stream",
     "text": [
      "🏃 View run capricious-conch-135 at: http://localhost:8080/#/experiments/785894109391607483/runs/66911ff89bd1427fb12e4b646ee02623\n",
      "🧪 View experiment at: http://localhost:8080/#/experiments/785894109391607483\n",
      "🏃 View run 2.3_MLP Classifier_with_engineering_2025_01_15 at: http://localhost:8080/#/experiments/785894109391607483/runs/1da7715a85064379b986a45ad0a78713\n",
      "🧪 View experiment at: http://localhost:8080/#/experiments/785894109391607483\n"
     ]
    }
   ],
   "source": [
    "cat_cols=['clust', 'Day of Week', 'Day of Month',\n",
    "       'Month']\n",
    "to_fit=['Quote asset volume', 'Number of trades', 'Taker buy base','Close_1n','Close',\n",
    "       'Taker buy quote', 'clust_1.0', 'clust_2.0', 'clust_3.0',\n",
    "       'Day of Week_Friday', 'Day of Week_Monday', 'Day of Week_Saturday',\n",
    "       'Day of Week_Sunday', 'Day of Week_Thursday', 'Day of Week_Tuesday',\n",
    "       'Day of Week_Wednesday', 'Day of Month_1', 'Day of Month_2',\n",
    "       'Day of Month_3', 'Day of Month_4', 'Day of Month_5', 'Day of Month_6',\n",
    "       'Day of Month_7', 'Day of Month_8', 'Day of Month_9', 'Day of Month_10',\n",
    "       'Day of Month_11', 'Day of Month_12', 'Day of Month_13',\n",
    "       'Day of Month_14', 'Day of Month_15', 'Day of Month_16',\n",
    "       'Day of Month_17', 'Day of Month_18', 'Day of Month_19',\n",
    "       'Day of Month_20', 'Day of Month_21', 'Day of Month_22',\n",
    "       'Day of Month_23', 'Day of Month_24', 'Day of Month_25',\n",
    "       'Day of Month_26', 'Day of Month_27', 'Day of Month_28',\n",
    "       'Day of Month_29', 'Day of Month_30', 'Day of Month_31', 'Month_April',\n",
    "       'Month_August', 'Month_December', 'Month_February', 'Month_January',\n",
    "       'Month_July', 'Month_June', 'Month_March', 'Month_May',\n",
    "       'Month_November', 'Month_October', 'Month_September']\n",
    "to_pred='Close increase'\n",
    "model_maker_tester_api=model_maker_tester(cat_cols,to_fit,to_pred)\n",
    "\n",
    "model =MLPClassifier()\n",
    "model_name = 'MLP Classifier_with_engineering'\n",
    "data=df_train\n",
    "version=2.3\n",
    "param_grid=parameter_space\n",
    "sav=model_maker_tester_api(model,model_name,data,version,param_grid,experience_name='BITCOIN',flg_first=True)"
   ]
  },
  {
   "cell_type": "code",
   "execution_count": 18,
   "metadata": {},
   "outputs": [
    {
     "name": "stderr",
     "output_type": "stream",
     "text": [
      "Downloading artifacts: 100%|██████████| 5/5 [00:02<00:00,  2.07it/s]\n"
     ]
    },
    {
     "name": "stdout",
     "output_type": "stream",
     "text": [
      "🏃 View run kindly-ram-808 at: http://localhost:8080/#/experiments/785894109391607483/runs/491f7aabec2845799c952b385c011649\n",
      "🧪 View experiment at: http://localhost:8080/#/experiments/785894109391607483\n",
      "🏃 View run 2.3_MLP Classifier_with_engineering_2025_01_15 at: http://localhost:8080/#/experiments/785894109391607483/runs/f1706239e37b4b3a8eda071355eb7178\n",
      "🧪 View experiment at: http://localhost:8080/#/experiments/785894109391607483\n"
     ]
    },
    {
     "data": {
      "text/plain": [
       "(MLPClassifier(activation='tanh', hidden_layer_sizes=(1000, 100, 10),\n",
       "               learning_rate='adaptive', solver='sgd'),\n",
       " {'R2': -0.15082348728965256,\n",
       "  'RMSE': 0.5363072049303464,\n",
       "  'MAE': 0.28762541806020064,\n",
       "  'Precision': 0.7123745819397993})"
      ]
     },
     "execution_count": 18,
     "metadata": {},
     "output_type": "execute_result"
    }
   ],
   "source": [
    "latest_run = client.search_runs(experiment_ids=[experiment.experiment_id], order_by=[\"start_time DESC\"], max_results=1)[0]\n",
    "model_uri = f\"runs:/{latest_run.info.run_id}/MLP Classifier_with_engineering/\"\n",
    "model_to_predict=mlflow.sklearn.load_model(model_uri)\n",
    "\n",
    "model_classifier=model_maker_tester_api(model_to_predict,model_name,df_test,version,param_grid,experience_name='BITCOIN',flg_first=False)\n",
    "model_classifier"
   ]
  },
  {
   "cell_type": "code",
   "execution_count": 19,
   "metadata": {},
   "outputs": [],
   "source": [
    "df['MLPclassifier_pred']=model_classifier[0].predict(df_dummies[to_fit])"
   ]
  },
  {
   "cell_type": "code",
   "execution_count": 20,
   "metadata": {},
   "outputs": [
    {
     "name": "stdout",
     "output_type": "stream",
     "text": [
      "[[124  23]\n",
      " [ 63  89]]\n",
      "0.47130242825607066\n"
     ]
    }
   ],
   "source": [
    "print(confusion_matrix(df_test['Close increase'], model_classifier[0].predict(pd.get_dummies(df_test,columns=cat_cols,drop_first=False)[to_fit])))\n",
    "print(model_classifier[0].score(df_dummies[to_fit], df['Close increase']))"
   ]
  },
  {
   "cell_type": "code",
   "execution_count": 21,
   "metadata": {},
   "outputs": [],
   "source": [
    "y=df['Close increase']\n",
    "pred=model_classifier[0].predict(df_dummies[to_fit])"
   ]
  },
  {
   "cell_type": "code",
   "execution_count": 22,
   "metadata": {},
   "outputs": [
    {
     "data": {
      "text/plain": [
       "0.4436701509872242"
      ]
     },
     "execution_count": 22,
     "metadata": {},
     "output_type": "execute_result"
    }
   ],
   "source": [
    "from sklearn.metrics import f1_score\n",
    "f1_score(y, pred)"
   ]
  },
  {
   "cell_type": "markdown",
   "metadata": {},
   "source": [
    "Résultats :\n",
    "- 'R2': -0.15082348728965256,\n",
    "- 'RMSE': 0.5363072049303464,\n",
    "- 'MAE': 0.28762541806020064,\n",
    "- 'Precision': 0.7123745819397993\n",
    "- 'f1_score' : 0.4436701509872242\n",
    "\n",
    "**On a alors un score de 19% au dessus de l'aléatoire.**\n",
    "\n",
    "C'est pas excellent. Le R2 est aberrant. Notre précision à bien augmentée. Le f1 score est mauvais."
   ]
  },
  {
   "cell_type": "markdown",
   "metadata": {},
   "source": [
    "# Et si on essayait un logit classique ?"
   ]
  },
  {
   "cell_type": "markdown",
   "metadata": {},
   "source": [
    "from skl"
   ]
  },
  {
   "cell_type": "code",
   "execution_count": 23,
   "metadata": {},
   "outputs": [],
   "source": [
    "from sklearn.linear_model import LogisticRegression\n",
    "df_dummies['Close increase']=df['Close increase']"
   ]
  },
  {
   "cell_type": "code",
   "execution_count": 24,
   "metadata": {},
   "outputs": [
    {
     "data": {
      "text/html": [
       "<style>#sk-container-id-1 {\n",
       "  /* Definition of color scheme common for light and dark mode */\n",
       "  --sklearn-color-text: #000;\n",
       "  --sklearn-color-text-muted: #666;\n",
       "  --sklearn-color-line: gray;\n",
       "  /* Definition of color scheme for unfitted estimators */\n",
       "  --sklearn-color-unfitted-level-0: #fff5e6;\n",
       "  --sklearn-color-unfitted-level-1: #f6e4d2;\n",
       "  --sklearn-color-unfitted-level-2: #ffe0b3;\n",
       "  --sklearn-color-unfitted-level-3: chocolate;\n",
       "  /* Definition of color scheme for fitted estimators */\n",
       "  --sklearn-color-fitted-level-0: #f0f8ff;\n",
       "  --sklearn-color-fitted-level-1: #d4ebff;\n",
       "  --sklearn-color-fitted-level-2: #b3dbfd;\n",
       "  --sklearn-color-fitted-level-3: cornflowerblue;\n",
       "\n",
       "  /* Specific color for light theme */\n",
       "  --sklearn-color-text-on-default-background: var(--sg-text-color, var(--theme-code-foreground, var(--jp-content-font-color1, black)));\n",
       "  --sklearn-color-background: var(--sg-background-color, var(--theme-background, var(--jp-layout-color0, white)));\n",
       "  --sklearn-color-border-box: var(--sg-text-color, var(--theme-code-foreground, var(--jp-content-font-color1, black)));\n",
       "  --sklearn-color-icon: #696969;\n",
       "\n",
       "  @media (prefers-color-scheme: dark) {\n",
       "    /* Redefinition of color scheme for dark theme */\n",
       "    --sklearn-color-text-on-default-background: var(--sg-text-color, var(--theme-code-foreground, var(--jp-content-font-color1, white)));\n",
       "    --sklearn-color-background: var(--sg-background-color, var(--theme-background, var(--jp-layout-color0, #111)));\n",
       "    --sklearn-color-border-box: var(--sg-text-color, var(--theme-code-foreground, var(--jp-content-font-color1, white)));\n",
       "    --sklearn-color-icon: #878787;\n",
       "  }\n",
       "}\n",
       "\n",
       "#sk-container-id-1 {\n",
       "  color: var(--sklearn-color-text);\n",
       "}\n",
       "\n",
       "#sk-container-id-1 pre {\n",
       "  padding: 0;\n",
       "}\n",
       "\n",
       "#sk-container-id-1 input.sk-hidden--visually {\n",
       "  border: 0;\n",
       "  clip: rect(1px 1px 1px 1px);\n",
       "  clip: rect(1px, 1px, 1px, 1px);\n",
       "  height: 1px;\n",
       "  margin: -1px;\n",
       "  overflow: hidden;\n",
       "  padding: 0;\n",
       "  position: absolute;\n",
       "  width: 1px;\n",
       "}\n",
       "\n",
       "#sk-container-id-1 div.sk-dashed-wrapped {\n",
       "  border: 1px dashed var(--sklearn-color-line);\n",
       "  margin: 0 0.4em 0.5em 0.4em;\n",
       "  box-sizing: border-box;\n",
       "  padding-bottom: 0.4em;\n",
       "  background-color: var(--sklearn-color-background);\n",
       "}\n",
       "\n",
       "#sk-container-id-1 div.sk-container {\n",
       "  /* jupyter's `normalize.less` sets `[hidden] { display: none; }`\n",
       "     but bootstrap.min.css set `[hidden] { display: none !important; }`\n",
       "     so we also need the `!important` here to be able to override the\n",
       "     default hidden behavior on the sphinx rendered scikit-learn.org.\n",
       "     See: https://github.com/scikit-learn/scikit-learn/issues/21755 */\n",
       "  display: inline-block !important;\n",
       "  position: relative;\n",
       "}\n",
       "\n",
       "#sk-container-id-1 div.sk-text-repr-fallback {\n",
       "  display: none;\n",
       "}\n",
       "\n",
       "div.sk-parallel-item,\n",
       "div.sk-serial,\n",
       "div.sk-item {\n",
       "  /* draw centered vertical line to link estimators */\n",
       "  background-image: linear-gradient(var(--sklearn-color-text-on-default-background), var(--sklearn-color-text-on-default-background));\n",
       "  background-size: 2px 100%;\n",
       "  background-repeat: no-repeat;\n",
       "  background-position: center center;\n",
       "}\n",
       "\n",
       "/* Parallel-specific style estimator block */\n",
       "\n",
       "#sk-container-id-1 div.sk-parallel-item::after {\n",
       "  content: \"\";\n",
       "  width: 100%;\n",
       "  border-bottom: 2px solid var(--sklearn-color-text-on-default-background);\n",
       "  flex-grow: 1;\n",
       "}\n",
       "\n",
       "#sk-container-id-1 div.sk-parallel {\n",
       "  display: flex;\n",
       "  align-items: stretch;\n",
       "  justify-content: center;\n",
       "  background-color: var(--sklearn-color-background);\n",
       "  position: relative;\n",
       "}\n",
       "\n",
       "#sk-container-id-1 div.sk-parallel-item {\n",
       "  display: flex;\n",
       "  flex-direction: column;\n",
       "}\n",
       "\n",
       "#sk-container-id-1 div.sk-parallel-item:first-child::after {\n",
       "  align-self: flex-end;\n",
       "  width: 50%;\n",
       "}\n",
       "\n",
       "#sk-container-id-1 div.sk-parallel-item:last-child::after {\n",
       "  align-self: flex-start;\n",
       "  width: 50%;\n",
       "}\n",
       "\n",
       "#sk-container-id-1 div.sk-parallel-item:only-child::after {\n",
       "  width: 0;\n",
       "}\n",
       "\n",
       "/* Serial-specific style estimator block */\n",
       "\n",
       "#sk-container-id-1 div.sk-serial {\n",
       "  display: flex;\n",
       "  flex-direction: column;\n",
       "  align-items: center;\n",
       "  background-color: var(--sklearn-color-background);\n",
       "  padding-right: 1em;\n",
       "  padding-left: 1em;\n",
       "}\n",
       "\n",
       "\n",
       "/* Toggleable style: style used for estimator/Pipeline/ColumnTransformer box that is\n",
       "clickable and can be expanded/collapsed.\n",
       "- Pipeline and ColumnTransformer use this feature and define the default style\n",
       "- Estimators will overwrite some part of the style using the `sk-estimator` class\n",
       "*/\n",
       "\n",
       "/* Pipeline and ColumnTransformer style (default) */\n",
       "\n",
       "#sk-container-id-1 div.sk-toggleable {\n",
       "  /* Default theme specific background. It is overwritten whether we have a\n",
       "  specific estimator or a Pipeline/ColumnTransformer */\n",
       "  background-color: var(--sklearn-color-background);\n",
       "}\n",
       "\n",
       "/* Toggleable label */\n",
       "#sk-container-id-1 label.sk-toggleable__label {\n",
       "  cursor: pointer;\n",
       "  display: flex;\n",
       "  width: 100%;\n",
       "  margin-bottom: 0;\n",
       "  padding: 0.5em;\n",
       "  box-sizing: border-box;\n",
       "  text-align: center;\n",
       "  align-items: start;\n",
       "  justify-content: space-between;\n",
       "  gap: 0.5em;\n",
       "}\n",
       "\n",
       "#sk-container-id-1 label.sk-toggleable__label .caption {\n",
       "  font-size: 0.6rem;\n",
       "  font-weight: lighter;\n",
       "  color: var(--sklearn-color-text-muted);\n",
       "}\n",
       "\n",
       "#sk-container-id-1 label.sk-toggleable__label-arrow:before {\n",
       "  /* Arrow on the left of the label */\n",
       "  content: \"▸\";\n",
       "  float: left;\n",
       "  margin-right: 0.25em;\n",
       "  color: var(--sklearn-color-icon);\n",
       "}\n",
       "\n",
       "#sk-container-id-1 label.sk-toggleable__label-arrow:hover:before {\n",
       "  color: var(--sklearn-color-text);\n",
       "}\n",
       "\n",
       "/* Toggleable content - dropdown */\n",
       "\n",
       "#sk-container-id-1 div.sk-toggleable__content {\n",
       "  max-height: 0;\n",
       "  max-width: 0;\n",
       "  overflow: hidden;\n",
       "  text-align: left;\n",
       "  /* unfitted */\n",
       "  background-color: var(--sklearn-color-unfitted-level-0);\n",
       "}\n",
       "\n",
       "#sk-container-id-1 div.sk-toggleable__content.fitted {\n",
       "  /* fitted */\n",
       "  background-color: var(--sklearn-color-fitted-level-0);\n",
       "}\n",
       "\n",
       "#sk-container-id-1 div.sk-toggleable__content pre {\n",
       "  margin: 0.2em;\n",
       "  border-radius: 0.25em;\n",
       "  color: var(--sklearn-color-text);\n",
       "  /* unfitted */\n",
       "  background-color: var(--sklearn-color-unfitted-level-0);\n",
       "}\n",
       "\n",
       "#sk-container-id-1 div.sk-toggleable__content.fitted pre {\n",
       "  /* unfitted */\n",
       "  background-color: var(--sklearn-color-fitted-level-0);\n",
       "}\n",
       "\n",
       "#sk-container-id-1 input.sk-toggleable__control:checked~div.sk-toggleable__content {\n",
       "  /* Expand drop-down */\n",
       "  max-height: 200px;\n",
       "  max-width: 100%;\n",
       "  overflow: auto;\n",
       "}\n",
       "\n",
       "#sk-container-id-1 input.sk-toggleable__control:checked~label.sk-toggleable__label-arrow:before {\n",
       "  content: \"▾\";\n",
       "}\n",
       "\n",
       "/* Pipeline/ColumnTransformer-specific style */\n",
       "\n",
       "#sk-container-id-1 div.sk-label input.sk-toggleable__control:checked~label.sk-toggleable__label {\n",
       "  color: var(--sklearn-color-text);\n",
       "  background-color: var(--sklearn-color-unfitted-level-2);\n",
       "}\n",
       "\n",
       "#sk-container-id-1 div.sk-label.fitted input.sk-toggleable__control:checked~label.sk-toggleable__label {\n",
       "  background-color: var(--sklearn-color-fitted-level-2);\n",
       "}\n",
       "\n",
       "/* Estimator-specific style */\n",
       "\n",
       "/* Colorize estimator box */\n",
       "#sk-container-id-1 div.sk-estimator input.sk-toggleable__control:checked~label.sk-toggleable__label {\n",
       "  /* unfitted */\n",
       "  background-color: var(--sklearn-color-unfitted-level-2);\n",
       "}\n",
       "\n",
       "#sk-container-id-1 div.sk-estimator.fitted input.sk-toggleable__control:checked~label.sk-toggleable__label {\n",
       "  /* fitted */\n",
       "  background-color: var(--sklearn-color-fitted-level-2);\n",
       "}\n",
       "\n",
       "#sk-container-id-1 div.sk-label label.sk-toggleable__label,\n",
       "#sk-container-id-1 div.sk-label label {\n",
       "  /* The background is the default theme color */\n",
       "  color: var(--sklearn-color-text-on-default-background);\n",
       "}\n",
       "\n",
       "/* On hover, darken the color of the background */\n",
       "#sk-container-id-1 div.sk-label:hover label.sk-toggleable__label {\n",
       "  color: var(--sklearn-color-text);\n",
       "  background-color: var(--sklearn-color-unfitted-level-2);\n",
       "}\n",
       "\n",
       "/* Label box, darken color on hover, fitted */\n",
       "#sk-container-id-1 div.sk-label.fitted:hover label.sk-toggleable__label.fitted {\n",
       "  color: var(--sklearn-color-text);\n",
       "  background-color: var(--sklearn-color-fitted-level-2);\n",
       "}\n",
       "\n",
       "/* Estimator label */\n",
       "\n",
       "#sk-container-id-1 div.sk-label label {\n",
       "  font-family: monospace;\n",
       "  font-weight: bold;\n",
       "  display: inline-block;\n",
       "  line-height: 1.2em;\n",
       "}\n",
       "\n",
       "#sk-container-id-1 div.sk-label-container {\n",
       "  text-align: center;\n",
       "}\n",
       "\n",
       "/* Estimator-specific */\n",
       "#sk-container-id-1 div.sk-estimator {\n",
       "  font-family: monospace;\n",
       "  border: 1px dotted var(--sklearn-color-border-box);\n",
       "  border-radius: 0.25em;\n",
       "  box-sizing: border-box;\n",
       "  margin-bottom: 0.5em;\n",
       "  /* unfitted */\n",
       "  background-color: var(--sklearn-color-unfitted-level-0);\n",
       "}\n",
       "\n",
       "#sk-container-id-1 div.sk-estimator.fitted {\n",
       "  /* fitted */\n",
       "  background-color: var(--sklearn-color-fitted-level-0);\n",
       "}\n",
       "\n",
       "/* on hover */\n",
       "#sk-container-id-1 div.sk-estimator:hover {\n",
       "  /* unfitted */\n",
       "  background-color: var(--sklearn-color-unfitted-level-2);\n",
       "}\n",
       "\n",
       "#sk-container-id-1 div.sk-estimator.fitted:hover {\n",
       "  /* fitted */\n",
       "  background-color: var(--sklearn-color-fitted-level-2);\n",
       "}\n",
       "\n",
       "/* Specification for estimator info (e.g. \"i\" and \"?\") */\n",
       "\n",
       "/* Common style for \"i\" and \"?\" */\n",
       "\n",
       ".sk-estimator-doc-link,\n",
       "a:link.sk-estimator-doc-link,\n",
       "a:visited.sk-estimator-doc-link {\n",
       "  float: right;\n",
       "  font-size: smaller;\n",
       "  line-height: 1em;\n",
       "  font-family: monospace;\n",
       "  background-color: var(--sklearn-color-background);\n",
       "  border-radius: 1em;\n",
       "  height: 1em;\n",
       "  width: 1em;\n",
       "  text-decoration: none !important;\n",
       "  margin-left: 0.5em;\n",
       "  text-align: center;\n",
       "  /* unfitted */\n",
       "  border: var(--sklearn-color-unfitted-level-1) 1pt solid;\n",
       "  color: var(--sklearn-color-unfitted-level-1);\n",
       "}\n",
       "\n",
       ".sk-estimator-doc-link.fitted,\n",
       "a:link.sk-estimator-doc-link.fitted,\n",
       "a:visited.sk-estimator-doc-link.fitted {\n",
       "  /* fitted */\n",
       "  border: var(--sklearn-color-fitted-level-1) 1pt solid;\n",
       "  color: var(--sklearn-color-fitted-level-1);\n",
       "}\n",
       "\n",
       "/* On hover */\n",
       "div.sk-estimator:hover .sk-estimator-doc-link:hover,\n",
       ".sk-estimator-doc-link:hover,\n",
       "div.sk-label-container:hover .sk-estimator-doc-link:hover,\n",
       ".sk-estimator-doc-link:hover {\n",
       "  /* unfitted */\n",
       "  background-color: var(--sklearn-color-unfitted-level-3);\n",
       "  color: var(--sklearn-color-background);\n",
       "  text-decoration: none;\n",
       "}\n",
       "\n",
       "div.sk-estimator.fitted:hover .sk-estimator-doc-link.fitted:hover,\n",
       ".sk-estimator-doc-link.fitted:hover,\n",
       "div.sk-label-container:hover .sk-estimator-doc-link.fitted:hover,\n",
       ".sk-estimator-doc-link.fitted:hover {\n",
       "  /* fitted */\n",
       "  background-color: var(--sklearn-color-fitted-level-3);\n",
       "  color: var(--sklearn-color-background);\n",
       "  text-decoration: none;\n",
       "}\n",
       "\n",
       "/* Span, style for the box shown on hovering the info icon */\n",
       ".sk-estimator-doc-link span {\n",
       "  display: none;\n",
       "  z-index: 9999;\n",
       "  position: relative;\n",
       "  font-weight: normal;\n",
       "  right: .2ex;\n",
       "  padding: .5ex;\n",
       "  margin: .5ex;\n",
       "  width: min-content;\n",
       "  min-width: 20ex;\n",
       "  max-width: 50ex;\n",
       "  color: var(--sklearn-color-text);\n",
       "  box-shadow: 2pt 2pt 4pt #999;\n",
       "  /* unfitted */\n",
       "  background: var(--sklearn-color-unfitted-level-0);\n",
       "  border: .5pt solid var(--sklearn-color-unfitted-level-3);\n",
       "}\n",
       "\n",
       ".sk-estimator-doc-link.fitted span {\n",
       "  /* fitted */\n",
       "  background: var(--sklearn-color-fitted-level-0);\n",
       "  border: var(--sklearn-color-fitted-level-3);\n",
       "}\n",
       "\n",
       ".sk-estimator-doc-link:hover span {\n",
       "  display: block;\n",
       "}\n",
       "\n",
       "/* \"?\"-specific style due to the `<a>` HTML tag */\n",
       "\n",
       "#sk-container-id-1 a.estimator_doc_link {\n",
       "  float: right;\n",
       "  font-size: 1rem;\n",
       "  line-height: 1em;\n",
       "  font-family: monospace;\n",
       "  background-color: var(--sklearn-color-background);\n",
       "  border-radius: 1rem;\n",
       "  height: 1rem;\n",
       "  width: 1rem;\n",
       "  text-decoration: none;\n",
       "  /* unfitted */\n",
       "  color: var(--sklearn-color-unfitted-level-1);\n",
       "  border: var(--sklearn-color-unfitted-level-1) 1pt solid;\n",
       "}\n",
       "\n",
       "#sk-container-id-1 a.estimator_doc_link.fitted {\n",
       "  /* fitted */\n",
       "  border: var(--sklearn-color-fitted-level-1) 1pt solid;\n",
       "  color: var(--sklearn-color-fitted-level-1);\n",
       "}\n",
       "\n",
       "/* On hover */\n",
       "#sk-container-id-1 a.estimator_doc_link:hover {\n",
       "  /* unfitted */\n",
       "  background-color: var(--sklearn-color-unfitted-level-3);\n",
       "  color: var(--sklearn-color-background);\n",
       "  text-decoration: none;\n",
       "}\n",
       "\n",
       "#sk-container-id-1 a.estimator_doc_link.fitted:hover {\n",
       "  /* fitted */\n",
       "  background-color: var(--sklearn-color-fitted-level-3);\n",
       "}\n",
       "</style><div id=\"sk-container-id-1\" class=\"sk-top-container\"><div class=\"sk-text-repr-fallback\"><pre>LogisticRegression()</pre><b>In a Jupyter environment, please rerun this cell to show the HTML representation or trust the notebook. <br />On GitHub, the HTML representation is unable to render, please try loading this page with nbviewer.org.</b></div><div class=\"sk-container\" hidden><div class=\"sk-item\"><div class=\"sk-estimator fitted sk-toggleable\"><input class=\"sk-toggleable__control sk-hidden--visually\" id=\"sk-estimator-id-1\" type=\"checkbox\" checked><label for=\"sk-estimator-id-1\" class=\"sk-toggleable__label fitted sk-toggleable__label-arrow\"><div><div>LogisticRegression</div></div><div><a class=\"sk-estimator-doc-link fitted\" rel=\"noreferrer\" target=\"_blank\" href=\"https://scikit-learn.org/1.6/modules/generated/sklearn.linear_model.LogisticRegression.html\">?<span>Documentation for LogisticRegression</span></a><span class=\"sk-estimator-doc-link fitted\">i<span>Fitted</span></span></div></label><div class=\"sk-toggleable__content fitted\"><pre>LogisticRegression()</pre></div> </div></div></div></div>"
      ],
      "text/plain": [
       "LogisticRegression()"
      ]
     },
     "execution_count": 24,
     "metadata": {},
     "output_type": "execute_result"
    }
   ],
   "source": [
    "minimum=1000000\n",
    "Logit=LogisticRegression()\n",
    "df_train_dummies=pd.get_dummies(df_train,columns=cat_cols,drop_first=False)\n",
    "df_test_dummies=pd.get_dummies(df_test,columns=cat_cols,drop_first=False)\n",
    "Logit.fit(df_train_dummies[to_fit],df_train_dummies['Close increase'])"
   ]
  },
  {
   "cell_type": "code",
   "execution_count": 25,
   "metadata": {},
   "outputs": [
    {
     "name": "stdout",
     "output_type": "stream",
     "text": [
      "[[128  19]\n",
      " [ 66  86]]\n",
      "Accuracy : 0.7157190635451505\n",
      "F1_score : 0.669260700389105\n"
     ]
    }
   ],
   "source": [
    "Conf_Mat=confusion_matrix(df_test_dummies['Close increase'], Logit.predict(df_test_dummies[to_fit]))\n",
    "print(Conf_Mat)\n",
    "print('Accuracy :',Logit.score(df_test_dummies[to_fit], df_test_dummies['Close increase']))\n",
    "print('F1_score :',f1_score(df_test_dummies['Close increase'], Logit.predict(df_test_dummies[to_fit])))"
   ]
  },
  {
   "cell_type": "code",
   "execution_count": 26,
   "metadata": {},
   "outputs": [],
   "source": [
    "df['Logit_prediction']=Logit.predict(df_dummies[to_fit])"
   ]
  },
  {
   "cell_type": "markdown",
   "metadata": {},
   "source": [
    "Comme quoi un bon vieux logit marche toujours"
   ]
  },
  {
   "cell_type": "markdown",
   "metadata": {},
   "source": [
    "# Et les arbres de décision dans tout ça ?"
   ]
  },
  {
   "cell_type": "code",
   "execution_count": 27,
   "metadata": {},
   "outputs": [
    {
     "name": "stdout",
     "output_type": "stream",
     "text": [
      "🏃 View run enthused-cod-653 at: http://localhost:8080/#/experiments/785894109391607483/runs/23a98ce412c64e6fa758fb980543e939\n",
      "🧪 View experiment at: http://localhost:8080/#/experiments/785894109391607483\n",
      "🏃 View run 2.4_Decision_tree_classifier_engineered_2025_01_15 at: http://localhost:8080/#/experiments/785894109391607483/runs/09e916728f744bef8a0c337ac12243f4\n",
      "🧪 View experiment at: http://localhost:8080/#/experiments/785894109391607483\n"
     ]
    }
   ],
   "source": [
    "cat_cols=['clust', 'Day of Week', 'Day of Month',\n",
    "       'Month']\n",
    "to_fit=['Quote asset volume', 'Number of trades', 'Taker buy base','Close','Close_1n',\n",
    "       'Taker buy quote', 'clust_1.0', 'clust_2.0', 'clust_3.0',\n",
    "       'Day of Week_Friday', 'Day of Week_Monday', 'Day of Week_Saturday',\n",
    "       'Day of Week_Sunday', 'Day of Week_Thursday', 'Day of Week_Tuesday',\n",
    "       'Day of Week_Wednesday', 'Day of Month_1', 'Day of Month_2',\n",
    "       'Day of Month_3', 'Day of Month_4', 'Day of Month_5', 'Day of Month_6',\n",
    "       'Day of Month_7', 'Day of Month_8', 'Day of Month_9', 'Day of Month_10',\n",
    "       'Day of Month_11', 'Day of Month_12', 'Day of Month_13',\n",
    "       'Day of Month_14', 'Day of Month_15', 'Day of Month_16',\n",
    "       'Day of Month_17', 'Day of Month_18', 'Day of Month_19',\n",
    "       'Day of Month_20', 'Day of Month_21', 'Day of Month_22',\n",
    "       'Day of Month_23', 'Day of Month_24', 'Day of Month_25',\n",
    "       'Day of Month_26', 'Day of Month_27', 'Day of Month_28',\n",
    "       'Day of Month_29', 'Day of Month_30', 'Day of Month_31', 'Month_April',\n",
    "       'Month_August', 'Month_December', 'Month_February', 'Month_January',\n",
    "       'Month_July', 'Month_June', 'Month_March', 'Month_May',\n",
    "       'Month_November', 'Month_October', 'Month_September']\n",
    "to_pred='Close increase'\n",
    "model_maker_tester_api=model_maker_tester(cat_cols,to_fit,to_pred)\n",
    "\n",
    "model =DecisionTreeClassifier()\n",
    "model_name = 'Decision_tree_classifier_engineered'\n",
    "data=df_test\n",
    "version=2.4\n",
    "param_grid = {\n",
    "    'criterion': ['gini', 'entropy'],\n",
    "    'max_depth': [3, 5, 10],\n",
    "    'min_samples_split': [2, 5, 10],\n",
    "    'min_samples_leaf': [1, 2, 4]\n",
    "}\n",
    "sav=model_maker_tester_api(model,model_name,data,version,param_grid,experience_name='BITCOIN',flg_first=True)"
   ]
  },
  {
   "cell_type": "code",
   "execution_count": 28,
   "metadata": {},
   "outputs": [
    {
     "name": "stderr",
     "output_type": "stream",
     "text": [
      "Downloading artifacts: 100%|██████████| 5/5 [00:02<00:00,  2.34it/s]\n"
     ]
    },
    {
     "name": "stdout",
     "output_type": "stream",
     "text": [
      "🏃 View run rogue-slug-661 at: http://localhost:8080/#/experiments/785894109391607483/runs/911025292eef44ec9fdfd5e3b15cbdba\n",
      "🧪 View experiment at: http://localhost:8080/#/experiments/785894109391607483\n",
      "🏃 View run 2.4_Decision_tree_classifier_engineered_2025_01_15 at: http://localhost:8080/#/experiments/785894109391607483/runs/66c78c4ca1834c5cb4a4ee2efc25f270\n",
      "🧪 View experiment at: http://localhost:8080/#/experiments/785894109391607483\n"
     ]
    },
    {
     "data": {
      "text/plain": [
       "(DecisionTreeClassifier(criterion='entropy', max_depth=3),\n",
       " {'R2': 0.10342821339061947,\n",
       "  'RMSE': 0.4733711731385092,\n",
       "  'MAE': 0.22408026755852842,\n",
       "  'Precision': 0.7759197324414716})"
      ]
     },
     "execution_count": 28,
     "metadata": {},
     "output_type": "execute_result"
    }
   ],
   "source": [
    "latest_run = client.search_runs(experiment_ids=[experiment.experiment_id], order_by=[\"start_time DESC\"], max_results=1)[0]\n",
    "model_uri = f\"runs:/{latest_run.info.run_id}/Decision_tree_classifier_engineered\"\n",
    "model_to_predict=mlflow.sklearn.load_model(model_uri)\n",
    "\n",
    "model_classifier=model_maker_tester_api(model_to_predict,model_name,df_test,version,param_grid,experience_name='BITCOIN',flg_first=False)\n",
    "df['DecisionTreeClassifier_pred']=model_classifier[0].predict(df_dummies[to_fit])\n",
    "model_classifier"
   ]
  },
  {
   "cell_type": "code",
   "execution_count": 29,
   "metadata": {},
   "outputs": [
    {
     "name": "stderr",
     "output_type": "stream",
     "text": [
      "c:\\Users\\lenovo\\Desktop\\Cours\\35_ML4DS\\.env_mlds\\Lib\\site-packages\\sklearn\\model_selection\\_search.py:1108: UserWarning: One or more of the test scores are non-finite: [nan nan nan nan nan nan nan nan nan nan nan nan nan nan nan nan nan nan\n",
      " nan nan nan nan nan nan nan nan nan nan nan nan nan nan nan nan nan nan\n",
      " nan nan nan nan nan nan nan nan nan nan nan nan nan nan nan nan nan nan\n",
      " nan nan nan nan nan nan nan nan nan nan nan nan nan nan nan nan nan nan\n",
      " nan nan nan nan nan nan nan nan nan nan nan nan nan nan nan nan nan nan\n",
      " nan nan nan nan nan nan nan nan nan nan nan nan nan nan nan nan nan nan]\n",
      "  warnings.warn(\n"
     ]
    },
    {
     "name": "stdout",
     "output_type": "stream",
     "text": [
      "🏃 View run fun-goat-584 at: http://localhost:8080/#/experiments/785894109391607483/runs/d32c2d1aac0e49f088405db1fb960091\n",
      "🧪 View experiment at: http://localhost:8080/#/experiments/785894109391607483\n",
      "🏃 View run 2.5_Decision_tree_regressor_engineered_2025_01_15 at: http://localhost:8080/#/experiments/785894109391607483/runs/3ed1aa69c32845488aad90fc9bfde4f4\n",
      "🧪 View experiment at: http://localhost:8080/#/experiments/785894109391607483\n"
     ]
    }
   ],
   "source": [
    "cat_cols=['clust', 'Day of Week', 'Day of Month',\n",
    "       'Month']\n",
    "to_fit=['Quote asset volume', 'Number of trades', 'Taker buy base',\n",
    "       'Taker buy quote', 'clust_1.0', 'clust_2.0', 'clust_3.0',\n",
    "       'Day of Week_Friday', 'Day of Week_Monday', 'Day of Week_Saturday',\n",
    "       'Day of Week_Sunday', 'Day of Week_Thursday', 'Day of Week_Tuesday',\n",
    "       'Day of Week_Wednesday', 'Day of Month_1', 'Day of Month_2',\n",
    "       'Day of Month_3', 'Day of Month_4', 'Day of Month_5', 'Day of Month_6',\n",
    "       'Day of Month_7', 'Day of Month_8', 'Day of Month_9', 'Day of Month_10',\n",
    "       'Day of Month_11', 'Day of Month_12', 'Day of Month_13',\n",
    "       'Day of Month_14', 'Day of Month_15', 'Day of Month_16',\n",
    "       'Day of Month_17', 'Day of Month_18', 'Day of Month_19',\n",
    "       'Day of Month_20', 'Day of Month_21', 'Day of Month_22',\n",
    "       'Day of Month_23', 'Day of Month_24', 'Day of Month_25',\n",
    "       'Day of Month_26', 'Day of Month_27', 'Day of Month_28',\n",
    "       'Day of Month_29', 'Day of Month_30', 'Day of Month_31', 'Month_April',\n",
    "       'Month_August', 'Month_December', 'Month_February', 'Month_January',\n",
    "       'Month_July', 'Month_June', 'Month_March', 'Month_May',\n",
    "       'Month_November', 'Month_October', 'Month_September']\n",
    "to_pred='Close'\n",
    "model_maker_tester_api=model_maker_tester(cat_cols,to_fit,to_pred)\n",
    "\n",
    "model =DecisionTreeRegressor()\n",
    "model_name = 'Decision_tree_regressor_engineered'\n",
    "data=df\n",
    "version=2.5\n",
    "param_grid = {\n",
    "    'criterion': ['squared_error', 'poisson', 'friedman_mse', 'absolute_error'],\n",
    "    'max_depth': [3, 5, 10],\n",
    "    'min_samples_split': [2, 5, 10],\n",
    "    'min_samples_leaf': [1, 2, 4]\n",
    "}\n",
    "sav=model_maker_tester_api(model,model_name,data,version,param_grid,experience_name='BITCOIN',flg_first=True)"
   ]
  },
  {
   "cell_type": "code",
   "execution_count": 30,
   "metadata": {},
   "outputs": [
    {
     "name": "stderr",
     "output_type": "stream",
     "text": [
      "Downloading artifacts: 100%|██████████| 5/5 [00:02<00:00,  2.33it/s]\n"
     ]
    },
    {
     "name": "stdout",
     "output_type": "stream",
     "text": [
      "🏃 View run able-frog-429 at: http://localhost:8080/#/experiments/785894109391607483/runs/6cfc806052c743fbab8a13741923a98e\n",
      "🧪 View experiment at: http://localhost:8080/#/experiments/785894109391607483\n",
      "🏃 View run 2.5_Decision_tree_regressor_engineered_2025_01_15 at: http://localhost:8080/#/experiments/785894109391607483/runs/74113c8e565b467a8c04dd8980d0e2ea\n",
      "🧪 View experiment at: http://localhost:8080/#/experiments/785894109391607483\n"
     ]
    },
    {
     "data": {
      "text/plain": [
       "(DecisionTreeRegressor(max_depth=3),\n",
       " {'R2': 0.7651864694026074,\n",
       "  'RMSE': 0.10709109260003849,\n",
       "  'MAE': 0.07191363298007938,\n",
       "  'Precision': 0.7651864694026074})"
      ]
     },
     "execution_count": 30,
     "metadata": {},
     "output_type": "execute_result"
    }
   ],
   "source": [
    "latest_run = client.search_runs(experiment_ids=[experiment.experiment_id], order_by=[\"start_time DESC\"], max_results=1)[0]\n",
    "model_uri = f\"runs:/{latest_run.info.run_id}/Decision_tree_regressor_engineered\"\n",
    "model_to_predict=mlflow.sklearn.load_model(model_uri)\n",
    "\n",
    "model_classifier=model_maker_tester_api(model_to_predict,model_name,df_test,version,param_grid,experience_name='BITCOIN',flg_first=False)\n",
    "df['DecisionTreeRegressor_pred']=model_classifier[0].predict(df_dummies[to_fit])\n",
    "model_classifier"
   ]
  },
  {
   "cell_type": "markdown",
   "metadata": {},
   "source": [
    "Alors la, l'arbre de décision a de très bonnes prédiction !\n",
    "\n",
    "Bientot la richesse !"
   ]
  },
  {
   "cell_type": "markdown",
   "metadata": {},
   "source": [
    "# Visualisation\n",
    "On va maintenant visualiser les prédiction des différents modèles"
   ]
  },
  {
   "cell_type": "code",
   "execution_count": 31,
   "metadata": {},
   "outputs": [],
   "source": [
    "from matplotlib import pyplot as plt"
   ]
  },
  {
   "cell_type": "code",
   "execution_count": 32,
   "metadata": {},
   "outputs": [],
   "source": [
    "df.to_csv('data/predictions.csv',index=False)"
   ]
  },
  {
   "cell_type": "code",
   "execution_count": 33,
   "metadata": {},
   "outputs": [],
   "source": [
    "df=pd.read_csv('data/predictions.csv')\n",
    "Pred_augmentation = ['Close time','Close_n1','Close_1n','Close','MLP_Regressor_pred','DecisionTreeRegressor_pred']\n",
    "# Inverse transform the scaled values to their original values\n",
    "\n",
    "Pred_prix=['Close time','Close','MLP_Regressor_pred','DecisionTreeRegressor_pred']\n",
    "\n",
    "for i in Pred_prix[1:]:\n",
    "    df[['Open', 'High', 'Low', 'Volume','Quote asset volume','Close_n1','Close_1n', 'Number of trades', 'Taker buy base','Taker buy quote',i]]=scaler.inverse_transform(df[['Open', 'High', 'Low', 'Volume','Quote asset volume','Close_n1','Close_1n', 'Number of trades', 'Taker buy base','Taker buy quote',i]])"
   ]
  },
  {
   "cell_type": "code",
   "execution_count": 34,
   "metadata": {},
   "outputs": [
    {
     "data": {
      "text/plain": [
       "<matplotlib.legend.Legend at 0x1f374846f50>"
      ]
     },
     "execution_count": 34,
     "metadata": {},
     "output_type": "execute_result"
    },
    {
     "data": {
      "image/png": "[encoded data removed]",
      "text/plain": [
       "<Figure size 640x480 with 1 Axes>"
      ]
     },
     "metadata": {},
     "output_type": "display_data"
    }
   ],
   "source": [
    "Pred_augmentation = ['Close time','Close','MLP_Regressor_pred','DecisionTreeRegressor_pred']\n",
    "\n",
    "for col in Pred_augmentation[1:]:\n",
    "    plt.plot(df['Close time'], df[col], label=col)\n",
    "\n",
    "plt.legend()"
   ]
  }
 ],
 "metadata": {
  "kernelspec": {
   "display_name": ".env_mlds",
   "language": "python",
   "name": "python3"
  },
  "language_info": {
   "codemirror_mode": {
    "name": "ipython",
    "version": 3
   },
   "file_extension": ".py",
   "mimetype": "text/x-python",
   "name": "python",
   "nbconvert_exporter": "python",
   "pygments_lexer": "ipython3",
   "version": "3.11.9"
  }
 },
 "nbformat": 4,
 "nbformat_minor": 2
}
