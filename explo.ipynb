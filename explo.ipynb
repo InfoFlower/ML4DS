{
 "cells": [
  {
   "cell_type": "markdown",
   "metadata": {},
   "source": [
    "# Projet de Machine Learning for data sciences\n",
    "Utilisation des données internet sur les articles publiés sur https://news.bitcoin.com/ et les données marché pour prédire la montée ou la descente du BitCoin.  "
   ]
  },
  {
   "cell_type": "markdown",
   "metadata": {},
   "source": [
    "## Import des packages\n",
    "Les fonctions créées pour le projet seront expliquée lors de l'utilisation."
   ]
  },
  {
   "cell_type": "code",
   "execution_count": 1,
   "metadata": {},
   "outputs": [],
   "source": [
    "import pandas as pd #pandas\n",
    "import web_knwoledge.api_bitcoin as bitcoin_api #data making\n",
    "from importlib import reload"
   ]
  },
  {
   "cell_type": "markdown",
   "metadata": {},
   "source": [
    "Il faut lancer web_knowledge.scrapper sur l'invite de commande (ou utiliser les données déjà récoltées). \n",
    "        ==> dossier wayback_dowloads\n",
    "> python web_knowledge/scrapper.py 'https://news.bitcoin.com'"
   ]
  },
  {
   "cell_type": "code",
   "execution_count": 32,
   "metadata": {},
   "outputs": [],
   "source": [
    "#Récupération des données de binance :\n",
    "reload(bitcoin_api)\n",
    "data = bitcoin_api.get_data('1w') # On est limité à un interval de 1 semaine pour s'accorder aux données web"
   ]
  },
  {
   "cell_type": "markdown",
   "metadata": {},
   "source": [
    "### Données disponibles grâce à l'appel API binance :\n",
    "- Open time: The timestamp (in milliseconds) indicating when the candlestick period starts.\n",
    "- Open: The opening price of the asset for the candlestick period.\n",
    "- High: The highest price of the asset during the candlestick period.\n",
    "- Low: The lowest price of the asset during the candlestick period.\n",
    "- Close: The closing price of the asset for the candlestick period.\n",
    "- Volume: The trading volume of the asset for the candlestick period.\n",
    "- Close time: The timestamp (in milliseconds) indicating when the candlestick period ends.\n",
    "- Quote asset volume: The trading volume of the quote asset for the candlestick period.\n",
    "- Number of trades: The number of trades that occurred during the candlestick period.\n",
    "- Taker buy base asset volume: The volume of the base asset involved in taker trades during the candlestick period.\n",
    "- Taker buy quote asset volume: The volume of the quote asset involved in taker trades during the candlestick period.\n",
    "- Ignore: This column is typically ignored and contains no relevant data."
   ]
  },
  {
   "cell_type": "code",
   "execution_count": 3,
   "metadata": {},
   "outputs": [],
   "source": [
    "columns=[\"Open time\",\"Open\",\"High\",\"Low\",\"Close\",\"Volume\",\"Close time\",\"Quote asset volume\",\"Number of trades\",\"Taker buy base\",\"Taker buy quote\",\"Ignore\"]\n",
    "Binance_dataframe=pd.DataFrame(data,columns=columns)"
   ]
  },
  {
   "cell_type": "markdown",
   "metadata": {},
   "source": [
    "### On va maintenant organiser nos données pour permettre la jointure avec les données web"
   ]
  },
  {
   "cell_type": "code",
   "execution_count": 4,
   "metadata": {},
   "outputs": [],
   "source": [
    "from datetime import datetime"
   ]
  },
  {
   "cell_type": "code",
   "execution_count": 5,
   "metadata": {},
   "outputs": [],
   "source": [
    "open_time=[datetime.strftime(datetime.fromtimestamp(i/1000),format='%Y%m%d') for i in Binance_dataframe[\"Open time\"]]\n",
    "Binance_dataframe[\"Open time\"]=open_time"
   ]
  },
  {
   "cell_type": "code",
   "execution_count": 17,
   "metadata": {},
   "outputs": [],
   "source": [
    "#Sauvegarde des données\n",
    "Binance_dataframe.to_csv(\"data/market/Binance_data.csv\",index=False)"
   ]
  },
  {
   "cell_type": "markdown",
   "metadata": {},
   "source": [
    "### On va maintenant convertir nos fichiers html en txt (formaté)"
   ]
  },
  {
   "cell_type": "code",
   "execution_count": 18,
   "metadata": {},
   "outputs": [],
   "source": [
    "from data_processing.from_html_to_txt import extract_content_from_html as ext_html\n",
    "import os"
   ]
  },
  {
   "cell_type": "code",
   "execution_count": 28,
   "metadata": {},
   "outputs": [],
   "source": [
    "files = os.listdir(\"wayback_downloads\")\n",
    "log=''\n",
    "for i in files:\n",
    "    already_done = os.listdir(\"data/html/\")\n",
    "    if f'{i.split(\".\")[0][:8]}.txt' not in already_done:\n",
    "        try:\n",
    "            ext_html(\"wayback_downloads/\" + i, ['div', 'p', 'h6', 'h4'], f'data/html/{i.split(\".\")[0][:8]}.txt')\n",
    "        except Exception as e:\n",
    "            log+=f\"Failed to process {i}: {e}\\n\"\n",
    "            with open(\"log.txt\",\"w\") as f: f.write(log)"
   ]
  },
  {
   "cell_type": "markdown",
   "metadata": {},
   "source": [
    "### Création du dataframe pour ACM\n",
    "On utilise nos fichiers HTML formaté en txt pour compter les mots"
   ]
  },
  {
   "cell_type": "code",
   "execution_count": 30,
   "metadata": {},
   "outputs": [],
   "source": [
    "from data_processing.text_processing import proc_make_csv as make_csv"
   ]
  },
  {
   "cell_type": "code",
   "execution_count": null,
   "metadata": {},
   "outputs": [],
   "source": [
    "word_count=make_csv()\n",
    "word_count.index = [i[:8] for i in os.listdir(\"data/html/\")]\n",
    "word_count"
   ]
  }
 ],
 "metadata": {
  "kernelspec": {
   "display_name": ".env_mlds",
   "language": "python",
   "name": "python3"
  },
  "language_info": {
   "codemirror_mode": {
    "name": "ipython",
    "version": 3
   },
   "file_extension": ".py",
   "mimetype": "text/x-python",
   "name": "python",
   "nbconvert_exporter": "python",
   "pygments_lexer": "ipython3",
   "version": "3.11.9"
  }
 },
 "nbformat": 4,
 "nbformat_minor": 2
}
